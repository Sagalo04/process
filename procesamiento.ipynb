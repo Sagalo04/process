{
  "nbformat": 4,
  "nbformat_minor": 0,
  "metadata": {
    "colab": {
      "name": "procesamiento.ipynb",
      "version": "0.3.2",
      "provenance": [],
      "include_colab_link": true
    },
    "kernelspec": {
      "name": "python3",
      "display_name": "Python 3"
    }
  },
  "cells": [
    {
      "cell_type": "markdown",
      "metadata": {
        "id": "view-in-github",
        "colab_type": "text"
      },
      "source": [
        "<a href=\"https://colab.research.google.com/github/Sagalo04/process/blob/master/procesamiento.ipynb\" target=\"_parent\"><img src=\"https://colab.research.google.com/assets/colab-badge.svg\" alt=\"Open In Colab\"/></a>"
      ]
    },
    {
      "cell_type": "code",
      "metadata": {
        "id": "N4OkKQDMZRFV",
        "colab_type": "code",
        "outputId": "8dd1fd40-f223-42a8-b20b-d3d6c56ecc07",
        "colab": {
          "base_uri": "https://localhost:8080/",
          "height": 34
        }
      },
      "source": [
        "\n",
        "from google.colab import drive\n",
        "drive.mount('/content/drive')\n"
      ],
      "execution_count": 0,
      "outputs": [
        {
          "output_type": "stream",
          "text": [
            "Drive already mounted at /content/drive; to attempt to forcibly remount, call drive.mount(\"/content/drive\", force_remount=True).\n"
          ],
          "name": "stdout"
        }
      ]
    },
    {
      "cell_type": "code",
      "metadata": {
        "id": "PUM1HvcBag4b",
        "colab_type": "code",
        "colab": {}
      },
      "source": [
        "import numpy as np\n",
        "import matplotlib.pyplot as plt\n",
        "import cv2\n",
        "\n",
        "%matplotlib inline"
      ],
      "execution_count": 0,
      "outputs": []
    },
    {
      "cell_type": "markdown",
      "metadata": {
        "id": "-TDpWLc4angL",
        "colab_type": "text"
      },
      "source": [
        "**Este manda un error en colab, por fuera funciona bien.**\n",
        "\n",
        "\n"
      ]
    },
    {
      "cell_type": "code",
      "metadata": {
        "id": "yuxmEg5ka2ba",
        "colab_type": "code",
        "colab": {}
      },
      "source": [
        "image = cv2.imread('/conten/dirve/Mi Unidad/PDI/Ejemplos Clase/ts42.jpg')\n",
        "cv2.imshow(\"Image\", image)\n",
        "cv2.waitKey(0)"
      ],
      "execution_count": 0,
      "outputs": []
    },
    {
      "cell_type": "code",
      "metadata": {
        "id": "p78i83hxbdCM",
        "colab_type": "code",
        "colab": {}
      },
      "source": [
        "from google.colab.patches import cv2_imshow\n",
        "img = cv2.imread('/content/drive/My Drive/PDI/Ejemplos clase/1.jpg', cv2.IMREAD_UNCHANGED)\n",
        "cv2_imshow(img)"
      ],
      "execution_count": 0,
      "outputs": []
    },
    {
      "cell_type": "code",
      "metadata": {
        "id": "2bV0yi5NcoxX",
        "colab_type": "code",
        "colab": {}
      },
      "source": [
        "!pwd\n",
        "!ls\n",
        "%cd /content/drive/My Drive/PDI/Ejemplos clase/\n",
        "!pwd\n",
        "\n",
        "from google.colab.patches import cv2_imshow\n",
        "img = cv2.imread('1.jpg', cv2.IMREAD_UNCHANGED)\n",
        "img = cv2.resize(img,(int(400),int(400)))\n",
        "cv2_imshow(img)"
      ],
      "execution_count": 0,
      "outputs": []
    },
    {
      "cell_type": "markdown",
      "metadata": {
        "id": "a3qjZbFPgiO-",
        "colab_type": "text"
      },
      "source": [
        "# **OPCION 2**"
      ]
    },
    {
      "cell_type": "code",
      "metadata": {
        "id": "DZ6WJwYfgfww",
        "colab_type": "code",
        "colab": {}
      },
      "source": [
        "import os \n",
        "path='/content/drive/My Drive//PDI/Ejemplos clase'\n",
        "os.chdir(path)\n",
        "!pwd\n",
        "\n",
        "from google.colab.patches import cv2_imshow\n",
        "img = cv2.imread('1.jpg', cv2.IMREAD_UNCHANGED)\n",
        "x= 500\n",
        "img = cv2.resize(img,(x,x))\n",
        "cv2_imshow(img)"
      ],
      "execution_count": 0,
      "outputs": []
    },
    {
      "cell_type": "markdown",
      "metadata": {
        "id": "VKbynMX1h4K5",
        "colab_type": "text"
      },
      "source": [
        "# **Cargar imagen original y visualizar con matplotlib**"
      ]
    },
    {
      "cell_type": "code",
      "metadata": {
        "id": "Q7_vrZL5iAX4",
        "colab_type": "code",
        "colab": {}
      },
      "source": [
        "# leer una imagen\n",
        "# principle of least astonishment(surprise)\n",
        "\n",
        "img_BGR = cv2.imread('/content/drive/My Drive/PDI/Ejemplos clase/1.jpg', cv2.IMREAD_COLOR)\n",
        "\n",
        "plt.figure(figsize=(7,7))\n",
        "plt.imshow(img_BGR)\n",
        "plt.show()"
      ],
      "execution_count": 0,
      "outputs": []
    },
    {
      "cell_type": "markdown",
      "metadata": {
        "id": "Y4ukGz7wkUoT",
        "colab_type": "text"
      },
      "source": [
        "# **Cambiar tamaños de la imagen**"
      ]
    },
    {
      "cell_type": "code",
      "metadata": {
        "id": "IZeW7tU4kY3o",
        "colab_type": "code",
        "colab": {}
      },
      "source": [
        "# Expanging\n",
        "print(img.shape)\n",
        "res = cv2.resize(img, None, fx = 10,fy=10,interpolation=cv2.INTER_CUBIC)\n",
        "print(res.shape)\n",
        "plt.imshow(res)\n",
        "plt.show\n",
        "\n",
        "# Reducting\n",
        "print(img.shape)\n",
        "res = cv2.resize(img, None, fx = .10,fy=.10,interpolation=cv2.INTER_CUBIC)\n",
        "print(res.shape)\n",
        "plt.imshow(res)\n",
        "plt.show"
      ],
      "execution_count": 0,
      "outputs": []
    },
    {
      "cell_type": "markdown",
      "metadata": {
        "id": "L5N4GfR_nAUR",
        "colab_type": "text"
      },
      "source": [
        "## **remover numeracion plot**"
      ]
    },
    {
      "cell_type": "code",
      "metadata": {
        "id": "V3TZjSldnAcX",
        "colab_type": "code",
        "colab": {}
      },
      "source": [
        "plt.figure(figsize=(7,7))\n",
        "plt.imshow(img_BGR)\n",
        "plt.xticks([])\n",
        "plt.yticks([])\n",
        "plt.show()"
      ],
      "execution_count": 0,
      "outputs": []
    },
    {
      "cell_type": "markdown",
      "metadata": {
        "id": "aKTr3Hm3nWOv",
        "colab_type": "text"
      },
      "source": [
        "# **Cambiar BGR  a RGB**"
      ]
    },
    {
      "cell_type": "code",
      "metadata": {
        "id": "RzLx4cE6naL8",
        "colab_type": "code",
        "colab": {}
      },
      "source": [
        "#PASAR A RGB\n",
        "img_RGB = cv2.cvtColor(img_BGR,cv2.COLOR_BGR2RGB)\n",
        "plt.figure(figsize=(10,10))\n",
        "plt.imshow(img_RGB)\n",
        "plt.xticks([])\n",
        "plt.yticks([])\n",
        "plt.show()"
      ],
      "execution_count": 0,
      "outputs": []
    },
    {
      "cell_type": "markdown",
      "metadata": {
        "id": "jWto22HUoHeZ",
        "colab_type": "text"
      },
      "source": [
        "# **Convertir a escala de grises**"
      ]
    },
    {
      "cell_type": "code",
      "metadata": {
        "id": "AwxVIgqYoHkv",
        "colab_type": "code",
        "colab": {}
      },
      "source": [
        "img_GRAY = cv2.cvtColor(img_BGR,cv2.COLOR_BGR2GRAY)\n",
        "plt.figure(figsize=(10,10))\n",
        "plt.imshow(img_GRAY)\n",
        "plt.xticks([])\n",
        "plt.yticks([])\n",
        "plt.show()"
      ],
      "execution_count": 0,
      "outputs": []
    },
    {
      "cell_type": "code",
      "metadata": {
        "id": "DaMJhxoMozJ3",
        "colab_type": "code",
        "colab": {}
      },
      "source": [
        "#convirtiendo a escala de grises\n",
        "plt.figure(figsize=(10,10))\n",
        "plt.imshow(img_GRAY,cmap='gray')\n",
        "plt.xticks([])\n",
        "plt.yticks([])\n",
        "plt.show()"
      ],
      "execution_count": 0,
      "outputs": []
    },
    {
      "cell_type": "markdown",
      "metadata": {
        "id": "EhVMKxdbpVVv",
        "colab_type": "text"
      },
      "source": [
        "# **Usar metodos para mostrar imagenes**"
      ]
    },
    {
      "cell_type": "code",
      "metadata": {
        "id": "eZKgDBH3pZbP",
        "colab_type": "code",
        "colab": {}
      },
      "source": [
        "#display 2 images\n",
        "\n",
        "def display(a,b,title1=\"Original\",title2=\"Edited\"):\n",
        "  plt.figure(figsize=(14,14))\n",
        "  plt.subplot(121), plt.imshow(a), plt.title(title1)\n",
        "  plt.xticks([]), plt.yticks([])\n",
        "  plt.subplot(122), plt.imshow(b,cmap='gray'), plt.title(title2)\n",
        "  plt.xticks([]), plt.yticks([])\n",
        "  plt.show()\n",
        "  \n",
        "#display 1 image\n",
        "def display_one(a,title1=\"Original\"):\n",
        "  plt.imshow(a), plt.title(title1)\n",
        "  plt.xticks([]), plt.yticks([])\n",
        "  plt.show()\n",
        "  \n",
        "display_one(img_BGR)\n",
        "display(img_RGB,img_BGR)\n",
        "  "
      ],
      "execution_count": 0,
      "outputs": []
    },
    {
      "cell_type": "code",
      "metadata": {
        "id": "b4tgw7y9ssos",
        "colab_type": "code",
        "colab": {}
      },
      "source": [
        "#display 2 images\n",
        "\n",
        "def display4(a,b,c,d,title1=\"Original\",title2=\"Edited 1\",title3=\"Edited 2\",title4=\"Edited 3\"):\n",
        "  plt.figure(figsize=(14,14))\n",
        "  plt.subplot(221), plt.imshow(a), plt.title(title1)\n",
        "  plt.xticks([]), plt.yticks([])\n",
        "  plt.subplot(222), plt.imshow(b,cmap='gray'), plt.title(title2)\n",
        "  plt.xticks([]), plt.yticks([])\n",
        "  plt.subplot(223), plt.imshow(c,cmap='gray'), plt.title(title3)\n",
        "  plt.xticks([]), plt.yticks([])\n",
        "  plt.subplot(224), plt.imshow(d,cmap='gray'), plt.title(title4)\n",
        "  plt.xticks([]), plt.yticks([])\n",
        "  plt.show()\n",
        "  \n",
        "display4(img_RGB,img_BGR,img,img_GRAY)"
      ],
      "execution_count": 0,
      "outputs": []
    },
    {
      "cell_type": "code",
      "metadata": {
        "id": "zZzNlrI7uLxP",
        "colab_type": "code",
        "outputId": "d6e241ef-d00f-4864-a20a-91faa3cc2479",
        "colab": {
          "base_uri": "https://localhost:8080/",
          "height": 34
        }
      },
      "source": [
        "print(img_GRAY.shape)"
      ],
      "execution_count": 0,
      "outputs": [
        {
          "output_type": "stream",
          "text": [
            "(804, 959)\n"
          ],
          "name": "stdout"
        }
      ]
    },
    {
      "cell_type": "markdown",
      "metadata": {
        "id": "SEo3PdsnunA9",
        "colab_type": "text"
      },
      "source": [
        "# **METODO ESTADISTICAS**"
      ]
    },
    {
      "cell_type": "code",
      "metadata": {
        "id": "EviSO3-0umwe",
        "colab_type": "code",
        "outputId": "ed8b2788-fa74-4058-b9ee-2056eebe80d3",
        "colab": {
          "base_uri": "https://localhost:8080/",
          "height": 136
        }
      },
      "source": [
        "def estadisticas(img):\n",
        "  \n",
        "  img_size=img.shape\n",
        "  \n",
        "  if len(img_size)>2:\n",
        "    print(\"image channels\", img_size[2])\n",
        "  else:\n",
        "    print(\"image channels\", 1)\n",
        "    \n",
        "  print(\"image W\",img_size[0])\n",
        "  print(\"image H\",img_size[1])\n",
        "  print(\"min value\",img.min())\n",
        "  print(\"max value\",img.max())\n",
        "  print(\"prom\",img.mean())\n",
        "  print(\"type\",img.dtype)\n",
        "\n",
        "estadisticas(img_GRAY)\n",
        "  "
      ],
      "execution_count": 0,
      "outputs": [
        {
          "output_type": "stream",
          "text": [
            "image channels 1\n",
            "image W 804\n",
            "image H 959\n",
            "min value 0\n",
            "max value 255\n",
            "prom 30.686501019407654\n",
            "type uint8\n"
          ],
          "name": "stdout"
        }
      ]
    }
  ]
}